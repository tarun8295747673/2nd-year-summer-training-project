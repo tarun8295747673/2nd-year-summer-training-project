{
 "cells": [
  {
   "cell_type": "code",
   "execution_count": 1,
   "id": "b0a3588d-3843-4d69-b4fc-a1c11af91fb5",
   "metadata": {},
   "outputs": [],
   "source": [
    "import pandas as pd\n",
    "import numpy as np\n",
    "import matplotlib.pyplot as plt\n"
   ]
  },
  {
   "cell_type": "code",
   "execution_count": 2,
   "id": "fa2773ae-dc49-490c-bd53-3560084e0353",
   "metadata": {},
   "outputs": [],
   "source": [
    "df = pd.read_csv('Desktop/Summer Training CodroidHub/library/city_weather.csv')"
   ]
  },
  {
   "cell_type": "code",
   "execution_count": 3,
   "id": "6bc618fe-9bcf-4f9c-b7a9-ea50da591b81",
   "metadata": {},
   "outputs": [
    {
     "name": "stdout",
     "output_type": "stream",
     "text": [
      "     Date  Temperature  Humidity    AQI\n",
      "0   False        False     False  False\n",
      "1   False        False     False  False\n",
      "2   False        False     False  False\n",
      "3   False        False     False  False\n",
      "4   False        False     False  False\n",
      "5   False        False     False  False\n",
      "6   False        False     False  False\n",
      "7   False        False     False  False\n",
      "8   False        False     False  False\n",
      "9   False        False     False  False\n",
      "10  False        False     False  False\n"
     ]
    }
   ],
   "source": [
    "missing_data = df.isnull()\n",
    "\n",
    "print(missing_data)\n",
    "\n"
   ]
  },
  {
   "cell_type": "code",
   "execution_count": 4,
   "id": "ffccc018-e7e6-4550-a7bb-7c806bf3d712",
   "metadata": {},
   "outputs": [
    {
     "data": {
      "text/plain": [
       "DatetimeIndex(['2023-01-02', '2023-01-03', '2023-01-04', '2023-01-05',\n",
       "               '2023-01-06', '2023-01-07', '2023-01-08', '2023-01-09'],\n",
       "              dtype='datetime64[ns]', freq='D')"
      ]
     },
     "execution_count": 4,
     "metadata": {},
     "output_type": "execute_result"
    }
   ],
   "source": [
    "date = pd.date_range(\"20230102\", periods=8)\n",
    "date"
   ]
  },
  {
   "cell_type": "code",
   "execution_count": 5,
   "id": "13610b0b-32cc-4e68-91aa-a1c627cea5c8",
   "metadata": {},
   "outputs": [
    {
     "data": {
      "text/html": [
       "<div>\n",
       "<style scoped>\n",
       "    .dataframe tbody tr th:only-of-type {\n",
       "        vertical-align: middle;\n",
       "    }\n",
       "\n",
       "    .dataframe tbody tr th {\n",
       "        vertical-align: top;\n",
       "    }\n",
       "\n",
       "    .dataframe thead th {\n",
       "        text-align: right;\n",
       "    }\n",
       "</style>\n",
       "<table border=\"1\" class=\"dataframe\">\n",
       "  <thead>\n",
       "    <tr style=\"text-align: right;\">\n",
       "      <th></th>\n",
       "      <th>A</th>\n",
       "      <th>B</th>\n",
       "      <th>C</th>\n",
       "      <th>D</th>\n",
       "    </tr>\n",
       "  </thead>\n",
       "  <tbody>\n",
       "    <tr>\n",
       "      <th>2023-01-02</th>\n",
       "      <td>-0.414951</td>\n",
       "      <td>0.193012</td>\n",
       "      <td>-1.702602</td>\n",
       "      <td>0.211901</td>\n",
       "    </tr>\n",
       "    <tr>\n",
       "      <th>2023-01-03</th>\n",
       "      <td>-0.236848</td>\n",
       "      <td>-0.174134</td>\n",
       "      <td>-0.396648</td>\n",
       "      <td>-1.438263</td>\n",
       "    </tr>\n",
       "    <tr>\n",
       "      <th>2023-01-04</th>\n",
       "      <td>0.052796</td>\n",
       "      <td>1.074939</td>\n",
       "      <td>-1.003732</td>\n",
       "      <td>0.416796</td>\n",
       "    </tr>\n",
       "    <tr>\n",
       "      <th>2023-01-05</th>\n",
       "      <td>0.391528</td>\n",
       "      <td>-0.680022</td>\n",
       "      <td>0.081040</td>\n",
       "      <td>-0.020137</td>\n",
       "    </tr>\n",
       "    <tr>\n",
       "      <th>2023-01-06</th>\n",
       "      <td>-0.283085</td>\n",
       "      <td>-0.599563</td>\n",
       "      <td>0.808841</td>\n",
       "      <td>-1.083768</td>\n",
       "    </tr>\n",
       "    <tr>\n",
       "      <th>2023-01-07</th>\n",
       "      <td>-0.555853</td>\n",
       "      <td>0.786286</td>\n",
       "      <td>0.431414</td>\n",
       "      <td>-1.003515</td>\n",
       "    </tr>\n",
       "    <tr>\n",
       "      <th>2023-01-08</th>\n",
       "      <td>-1.002835</td>\n",
       "      <td>-1.650654</td>\n",
       "      <td>0.492167</td>\n",
       "      <td>-0.558215</td>\n",
       "    </tr>\n",
       "    <tr>\n",
       "      <th>2023-01-09</th>\n",
       "      <td>-0.218350</td>\n",
       "      <td>-0.850239</td>\n",
       "      <td>1.084559</td>\n",
       "      <td>-0.706829</td>\n",
       "    </tr>\n",
       "  </tbody>\n",
       "</table>\n",
       "</div>"
      ],
      "text/plain": [
       "                   A         B         C         D\n",
       "2023-01-02 -0.414951  0.193012 -1.702602  0.211901\n",
       "2023-01-03 -0.236848 -0.174134 -0.396648 -1.438263\n",
       "2023-01-04  0.052796  1.074939 -1.003732  0.416796\n",
       "2023-01-05  0.391528 -0.680022  0.081040 -0.020137\n",
       "2023-01-06 -0.283085 -0.599563  0.808841 -1.083768\n",
       "2023-01-07 -0.555853  0.786286  0.431414 -1.003515\n",
       "2023-01-08 -1.002835 -1.650654  0.492167 -0.558215\n",
       "2023-01-09 -0.218350 -0.850239  1.084559 -0.706829"
      ]
     },
     "execution_count": 5,
     "metadata": {},
     "output_type": "execute_result"
    }
   ],
   "source": [
    "df = pd.DataFrame(np.random.randn(8, 4), index=date, columns=list(\"ABCD\"))\n",
    "df"
   ]
  },
  {
   "cell_type": "code",
   "execution_count": 6,
   "id": "fdc8576e-eb5e-4145-b455-1d00770cf992",
   "metadata": {},
   "outputs": [
    {
     "data": {
      "text/html": [
       "<div>\n",
       "<style scoped>\n",
       "    .dataframe tbody tr th:only-of-type {\n",
       "        vertical-align: middle;\n",
       "    }\n",
       "\n",
       "    .dataframe tbody tr th {\n",
       "        vertical-align: top;\n",
       "    }\n",
       "\n",
       "    .dataframe thead th {\n",
       "        text-align: right;\n",
       "    }\n",
       "</style>\n",
       "<table border=\"1\" class=\"dataframe\">\n",
       "  <thead>\n",
       "    <tr style=\"text-align: right;\">\n",
       "      <th></th>\n",
       "      <th>A</th>\n",
       "      <th>B</th>\n",
       "      <th>C</th>\n",
       "      <th>D</th>\n",
       "    </tr>\n",
       "  </thead>\n",
       "  <tbody>\n",
       "    <tr>\n",
       "      <th>2023-01-02</th>\n",
       "      <td>-0.414951</td>\n",
       "      <td>0.193012</td>\n",
       "      <td>-1.702602</td>\n",
       "      <td>0.211901</td>\n",
       "    </tr>\n",
       "    <tr>\n",
       "      <th>2023-01-03</th>\n",
       "      <td>-0.236848</td>\n",
       "      <td>-0.174134</td>\n",
       "      <td>-0.396648</td>\n",
       "      <td>-1.438263</td>\n",
       "    </tr>\n",
       "    <tr>\n",
       "      <th>2023-01-04</th>\n",
       "      <td>0.052796</td>\n",
       "      <td>1.074939</td>\n",
       "      <td>-1.003732</td>\n",
       "      <td>0.416796</td>\n",
       "    </tr>\n",
       "    <tr>\n",
       "      <th>2023-01-05</th>\n",
       "      <td>0.391528</td>\n",
       "      <td>-0.680022</td>\n",
       "      <td>0.081040</td>\n",
       "      <td>-0.020137</td>\n",
       "    </tr>\n",
       "    <tr>\n",
       "      <th>2023-01-06</th>\n",
       "      <td>-0.283085</td>\n",
       "      <td>-0.599563</td>\n",
       "      <td>0.808841</td>\n",
       "      <td>-1.083768</td>\n",
       "    </tr>\n",
       "  </tbody>\n",
       "</table>\n",
       "</div>"
      ],
      "text/plain": [
       "                   A         B         C         D\n",
       "2023-01-02 -0.414951  0.193012 -1.702602  0.211901\n",
       "2023-01-03 -0.236848 -0.174134 -0.396648 -1.438263\n",
       "2023-01-04  0.052796  1.074939 -1.003732  0.416796\n",
       "2023-01-05  0.391528 -0.680022  0.081040 -0.020137\n",
       "2023-01-06 -0.283085 -0.599563  0.808841 -1.083768"
      ]
     },
     "execution_count": 6,
     "metadata": {},
     "output_type": "execute_result"
    }
   ],
   "source": [
    "df.head()"
   ]
  },
  {
   "cell_type": "code",
   "execution_count": 7,
   "id": "28f53fc1-b153-407b-84b5-b76ba6f5a68f",
   "metadata": {},
   "outputs": [
    {
     "data": {
      "text/html": [
       "<div>\n",
       "<style scoped>\n",
       "    .dataframe tbody tr th:only-of-type {\n",
       "        vertical-align: middle;\n",
       "    }\n",
       "\n",
       "    .dataframe tbody tr th {\n",
       "        vertical-align: top;\n",
       "    }\n",
       "\n",
       "    .dataframe thead th {\n",
       "        text-align: right;\n",
       "    }\n",
       "</style>\n",
       "<table border=\"1\" class=\"dataframe\">\n",
       "  <thead>\n",
       "    <tr style=\"text-align: right;\">\n",
       "      <th></th>\n",
       "      <th>A</th>\n",
       "      <th>B</th>\n",
       "      <th>C</th>\n",
       "      <th>D</th>\n",
       "    </tr>\n",
       "  </thead>\n",
       "  <tbody>\n",
       "    <tr>\n",
       "      <th>2023-01-05</th>\n",
       "      <td>0.391528</td>\n",
       "      <td>-0.680022</td>\n",
       "      <td>0.081040</td>\n",
       "      <td>-0.020137</td>\n",
       "    </tr>\n",
       "    <tr>\n",
       "      <th>2023-01-06</th>\n",
       "      <td>-0.283085</td>\n",
       "      <td>-0.599563</td>\n",
       "      <td>0.808841</td>\n",
       "      <td>-1.083768</td>\n",
       "    </tr>\n",
       "    <tr>\n",
       "      <th>2023-01-07</th>\n",
       "      <td>-0.555853</td>\n",
       "      <td>0.786286</td>\n",
       "      <td>0.431414</td>\n",
       "      <td>-1.003515</td>\n",
       "    </tr>\n",
       "    <tr>\n",
       "      <th>2023-01-08</th>\n",
       "      <td>-1.002835</td>\n",
       "      <td>-1.650654</td>\n",
       "      <td>0.492167</td>\n",
       "      <td>-0.558215</td>\n",
       "    </tr>\n",
       "    <tr>\n",
       "      <th>2023-01-09</th>\n",
       "      <td>-0.218350</td>\n",
       "      <td>-0.850239</td>\n",
       "      <td>1.084559</td>\n",
       "      <td>-0.706829</td>\n",
       "    </tr>\n",
       "  </tbody>\n",
       "</table>\n",
       "</div>"
      ],
      "text/plain": [
       "                   A         B         C         D\n",
       "2023-01-05  0.391528 -0.680022  0.081040 -0.020137\n",
       "2023-01-06 -0.283085 -0.599563  0.808841 -1.083768\n",
       "2023-01-07 -0.555853  0.786286  0.431414 -1.003515\n",
       "2023-01-08 -1.002835 -1.650654  0.492167 -0.558215\n",
       "2023-01-09 -0.218350 -0.850239  1.084559 -0.706829"
      ]
     },
     "execution_count": 7,
     "metadata": {},
     "output_type": "execute_result"
    }
   ],
   "source": [
    "df.tail()"
   ]
  },
  {
   "cell_type": "code",
   "execution_count": 8,
   "id": "eb25c4a4-abc7-432d-a6e9-d4464b65b969",
   "metadata": {},
   "outputs": [],
   "source": [
    "summary = df.describe()"
   ]
  },
  {
   "cell_type": "code",
   "execution_count": 9,
   "id": "cd1028e4-5d7b-4d2a-845a-42498d8d4f40",
   "metadata": {},
   "outputs": [
    {
     "data": {
      "text/html": [
       "<div>\n",
       "<style scoped>\n",
       "    .dataframe tbody tr th:only-of-type {\n",
       "        vertical-align: middle;\n",
       "    }\n",
       "\n",
       "    .dataframe tbody tr th {\n",
       "        vertical-align: top;\n",
       "    }\n",
       "\n",
       "    .dataframe thead th {\n",
       "        text-align: right;\n",
       "    }\n",
       "</style>\n",
       "<table border=\"1\" class=\"dataframe\">\n",
       "  <thead>\n",
       "    <tr style=\"text-align: right;\">\n",
       "      <th></th>\n",
       "      <th>A</th>\n",
       "      <th>B</th>\n",
       "      <th>C</th>\n",
       "      <th>D</th>\n",
       "    </tr>\n",
       "  </thead>\n",
       "  <tbody>\n",
       "    <tr>\n",
       "      <th>count</th>\n",
       "      <td>8.000000</td>\n",
       "      <td>8.000000</td>\n",
       "      <td>8.000000</td>\n",
       "      <td>8.000000</td>\n",
       "    </tr>\n",
       "    <tr>\n",
       "      <th>mean</th>\n",
       "      <td>-0.283450</td>\n",
       "      <td>-0.237547</td>\n",
       "      <td>-0.025620</td>\n",
       "      <td>-0.522754</td>\n",
       "    </tr>\n",
       "    <tr>\n",
       "      <th>std</th>\n",
       "      <td>0.411283</td>\n",
       "      <td>0.899155</td>\n",
       "      <td>0.950475</td>\n",
       "      <td>0.664859</td>\n",
       "    </tr>\n",
       "    <tr>\n",
       "      <th>min</th>\n",
       "      <td>-1.002835</td>\n",
       "      <td>-1.650654</td>\n",
       "      <td>-1.702602</td>\n",
       "      <td>-1.438263</td>\n",
       "    </tr>\n",
       "    <tr>\n",
       "      <th>25%</th>\n",
       "      <td>-0.450177</td>\n",
       "      <td>-0.722576</td>\n",
       "      <td>-0.548419</td>\n",
       "      <td>-1.023578</td>\n",
       "    </tr>\n",
       "    <tr>\n",
       "      <th>50%</th>\n",
       "      <td>-0.259967</td>\n",
       "      <td>-0.386849</td>\n",
       "      <td>0.256227</td>\n",
       "      <td>-0.632522</td>\n",
       "    </tr>\n",
       "    <tr>\n",
       "      <th>75%</th>\n",
       "      <td>-0.150563</td>\n",
       "      <td>0.341331</td>\n",
       "      <td>0.571336</td>\n",
       "      <td>0.037872</td>\n",
       "    </tr>\n",
       "    <tr>\n",
       "      <th>max</th>\n",
       "      <td>0.391528</td>\n",
       "      <td>1.074939</td>\n",
       "      <td>1.084559</td>\n",
       "      <td>0.416796</td>\n",
       "    </tr>\n",
       "  </tbody>\n",
       "</table>\n",
       "</div>"
      ],
      "text/plain": [
       "              A         B         C         D\n",
       "count  8.000000  8.000000  8.000000  8.000000\n",
       "mean  -0.283450 -0.237547 -0.025620 -0.522754\n",
       "std    0.411283  0.899155  0.950475  0.664859\n",
       "min   -1.002835 -1.650654 -1.702602 -1.438263\n",
       "25%   -0.450177 -0.722576 -0.548419 -1.023578\n",
       "50%   -0.259967 -0.386849  0.256227 -0.632522\n",
       "75%   -0.150563  0.341331  0.571336  0.037872\n",
       "max    0.391528  1.074939  1.084559  0.416796"
      ]
     },
     "execution_count": 9,
     "metadata": {},
     "output_type": "execute_result"
    }
   ],
   "source": [
    "summary"
   ]
  },
  {
   "cell_type": "code",
   "execution_count": 10,
   "id": "4e9ed048-8155-4f52-aee1-43a2cd5e8ca5",
   "metadata": {},
   "outputs": [
    {
     "data": {
      "text/html": [
       "<div>\n",
       "<style scoped>\n",
       "    .dataframe tbody tr th:only-of-type {\n",
       "        vertical-align: middle;\n",
       "    }\n",
       "\n",
       "    .dataframe tbody tr th {\n",
       "        vertical-align: top;\n",
       "    }\n",
       "\n",
       "    .dataframe thead th {\n",
       "        text-align: right;\n",
       "    }\n",
       "</style>\n",
       "<table border=\"1\" class=\"dataframe\">\n",
       "  <thead>\n",
       "    <tr style=\"text-align: right;\">\n",
       "      <th></th>\n",
       "      <th>A</th>\n",
       "      <th>B</th>\n",
       "      <th>C</th>\n",
       "      <th>D</th>\n",
       "    </tr>\n",
       "  </thead>\n",
       "  <tbody>\n",
       "    <tr>\n",
       "      <th>count</th>\n",
       "      <td>8.000000</td>\n",
       "      <td>8.000000</td>\n",
       "      <td>8.000000</td>\n",
       "      <td>8.000000</td>\n",
       "    </tr>\n",
       "    <tr>\n",
       "      <th>mean</th>\n",
       "      <td>-0.283450</td>\n",
       "      <td>-0.237547</td>\n",
       "      <td>-0.025620</td>\n",
       "      <td>-0.522754</td>\n",
       "    </tr>\n",
       "    <tr>\n",
       "      <th>std</th>\n",
       "      <td>0.411283</td>\n",
       "      <td>0.899155</td>\n",
       "      <td>0.950475</td>\n",
       "      <td>0.664859</td>\n",
       "    </tr>\n",
       "    <tr>\n",
       "      <th>min</th>\n",
       "      <td>-1.002835</td>\n",
       "      <td>-1.650654</td>\n",
       "      <td>-1.702602</td>\n",
       "      <td>-1.438263</td>\n",
       "    </tr>\n",
       "    <tr>\n",
       "      <th>25%</th>\n",
       "      <td>-0.450177</td>\n",
       "      <td>-0.722576</td>\n",
       "      <td>-0.548419</td>\n",
       "      <td>-1.023578</td>\n",
       "    </tr>\n",
       "  </tbody>\n",
       "</table>\n",
       "</div>"
      ],
      "text/plain": [
       "              A         B         C         D\n",
       "count  8.000000  8.000000  8.000000  8.000000\n",
       "mean  -0.283450 -0.237547 -0.025620 -0.522754\n",
       "std    0.411283  0.899155  0.950475  0.664859\n",
       "min   -1.002835 -1.650654 -1.702602 -1.438263\n",
       "25%   -0.450177 -0.722576 -0.548419 -1.023578"
      ]
     },
     "execution_count": 10,
     "metadata": {},
     "output_type": "execute_result"
    }
   ],
   "source": [
    "summary.head()"
   ]
  },
  {
   "cell_type": "code",
   "execution_count": 15,
   "id": "c03aaaec-bcd9-4361-a706-9d3efd1082d4",
   "metadata": {},
   "outputs": [
    {
     "data": {
      "text/plain": [
       "-0.2673426403950323"
      ]
     },
     "execution_count": 15,
     "metadata": {},
     "output_type": "execute_result"
    }
   ],
   "source": [
    "np.average(df[:8])"
   ]
  },
  {
   "cell_type": "code",
   "execution_count": 33,
   "id": "7673c5aa-1242-427e-84e1-7a6064b86293",
   "metadata": {},
   "outputs": [
    {
     "data": {
      "image/png": "[encoded data removed]",
      "text/plain": [
       "<Figure size 640x480 with 1 Axes>"
      ]
     },
     "metadata": {},
     "output_type": "display_data"
    }
   ],
   "source": [
    "import matplotlib.pyplot as plt\n",
    "x_Temperature = [\"Temperature\"]\n",
    "y_Humidity = [\"Humidity\"]\n",
    "plt.plot(x_Temperature,y_Humidity)\n",
    "plt.title(\"Temperature vs humidity\")\n",
    "plt.xlabel(\"Temperature\")\n",
    "plt.ylabel(\"Humiodity\")\n",
    "plt.show()"
   ]
  },
  {
   "cell_type": "code",
   "execution_count": 53,
   "id": "89212807-2b5a-410a-8406-7f4290ef9d9e",
   "metadata": {},
   "outputs": [
    {
     "data": {
      "image/png": "[encoded data removed]",
      "text/plain": [
       "<Figure size 200x200 with 1 Axes>"
      ]
     },
     "metadata": {},
     "output_type": "display_data"
    }
   ],
   "source": [
    "plt.style.use('_mpl-gallery')\n",
    "\n",
    "# make data:\n",
    "x = [\"Temperature\"]\n",
    "y = [\"Humidity\"]\n",
    "\n",
    "# plot\n",
    "fig, ax = plt.subplots()\n",
    "\n",
    "ax.bar(x, y, width=1, edgecolor=\"white\", linewidth=0.7)\n",
    "\n",
    "#ax.set(xlim=(0, 8), xticks=np.arange(1, 8),\n",
    "      # ylim=(0, 8), yticks=np.arange(1, 8))\n",
    "\n",
    "plt.show()\n"
   ]
  },
  {
   "cell_type": "code",
   "execution_count": null,
   "id": "8031b859-dce5-45f8-a98c-d37e50671b7e",
   "metadata": {},
   "outputs": [],
   "source": []
  }
 ],
 "metadata": {
  "kernelspec": {
   "display_name": "Python 3 (ipykernel)",
   "language": "python",
   "name": "python3"
  },
  "language_info": {
   "codemirror_mode": {
    "name": "ipython",
    "version": 3
   },
   "file_extension": ".py",
   "mimetype": "text/x-python",
   "name": "python",
   "nbconvert_exporter": "python",
   "pygments_lexer": "ipython3",
   "version": "3.12.4"
  }
 },
 "nbformat": 4,
 "nbformat_minor": 5
}
